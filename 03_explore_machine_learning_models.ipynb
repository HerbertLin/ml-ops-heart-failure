{
 "cells": [
  {
   "cell_type": "code",
   "execution_count": 1,
   "metadata": {
    "id": "bosGFr4hwwWM",
    "outputId": "23bc14e9-298e-4577-9907-654cc8bb8252"
   },
   "outputs": [],
   "source": [
    "import pandas as pd\n",
    "import numpy as np\n",
    "import matplotlib.pyplot as plt\n",
    "import seaborn as sns\n"
   ]
  },
  {
   "cell_type": "markdown",
   "metadata": {},
   "source": [
    "# Load Data"
   ]
  },
  {
   "cell_type": "code",
   "execution_count": 2,
   "metadata": {},
   "outputs": [],
   "source": [
    "dataset = pd.read_pickle(\"resources/normalized_data/heart_failure_normalized_dataframe.pkl\",compression=\"gzip\")"
   ]
  },
  {
   "cell_type": "markdown",
   "metadata": {},
   "source": [
    "# Data Modeling"
   ]
  },
  {
   "cell_type": "code",
   "execution_count": 3,
   "metadata": {
    "id": "fBqPAB7CtN-R",
    "outputId": "38feb9f2-c786-401d-9604-e41777f9f6c8"
   },
   "outputs": [
    {
     "name": "stdout",
     "output_type": "stream",
     "text": [
      "age\n",
      "creatinine_phosphokinase\n",
      "ejection_fraction\n",
      "platelets\n",
      "serum_creatinine\n",
      "serum_sodium\n",
      "anaemia\n",
      "diabetes\n",
      "high_blood_pressure\n",
      "sex\n",
      "smoking\n",
      "time\n",
      "DEATH_EVENT\n"
     ]
    }
   ],
   "source": [
    "columns = list(dataset.columns)\n",
    "print(*columns, sep='\\n')\n",
    "# print('\\n'.join(columns)) Gives the same result..."
   ]
  },
  {
   "cell_type": "code",
   "execution_count": 4,
   "metadata": {
    "id": "etHTR98wtN6p"
   },
   "outputs": [],
   "source": [
    "x = dataset.iloc[:, :-1].values\n",
    "y = dataset.iloc[:, -1].values"
   ]
  },
  {
   "cell_type": "code",
   "execution_count": 5,
   "metadata": {
    "id": "tk1VRdZxtRkk"
   },
   "outputs": [],
   "source": [
    "from sklearn.model_selection import train_test_split\n",
    "x_train, x_test, y_train, y_test = train_test_split(x, y, train_size = 0.8, shuffle = True, random_state = 2)"
   ]
  },
  {
   "cell_type": "markdown",
   "metadata": {
    "id": "DSskWp4YTbxi"
   },
   "source": [
    "# Machine Learning Algorithms"
   ]
  },
  {
   "cell_type": "code",
   "execution_count": 6,
   "metadata": {
    "id": "-6Gq_YzhTiO0"
   },
   "outputs": [],
   "source": [
    "from sklearn.metrics import confusion_matrix, accuracy_score\n",
    "\n",
    "algo_accuracy_record = []  # each element is list of format - ['algo_name', algo_max_accuracy]"
   ]
  },
  {
   "cell_type": "code",
   "execution_count": 7,
   "metadata": {
    "id": "LdqFa3dJOnNx",
    "outputId": "32bea43e-08d9-48b2-f363-63aa077ae704"
   },
   "outputs": [
    {
     "name": "stdout",
     "output_type": "stream",
     "text": [
      "maximum accuracy = 0.9137931034482759\n",
      "confusion matrix = \n",
      "[[37  1]\n",
      " [ 4 16]]\n"
     ]
    }
   ],
   "source": [
    "# Random Forest Classifier\n",
    "from sklearn.ensemble import RandomForestClassifier\n",
    "\n",
    "rf_acc = []\n",
    "rf_cm = []\n",
    "\n",
    "for num_trees in range(1, 200):\n",
    "    rf_classifier = RandomForestClassifier(n_estimators = num_trees, criterion = 'entropy', random_state = 0)\n",
    "    rf_classifier.fit(x_train, y_train)\n",
    "    rf_pred = rf_classifier.predict(x_test)\n",
    "\n",
    "    rf_acc.append(accuracy_score(y_test,rf_pred))\n",
    "    rf_cm.append(confusion_matrix(y_test,rf_pred))\n",
    "    \n",
    "max_acc = max(rf_acc)\n",
    "max_acc_cm = rf_cm[rf_acc.index(max_acc)]\n",
    "print('maximum accuracy = ' + str(max_acc))\n",
    "print('confusion matrix = ')\n",
    "print(max_acc_cm)\n",
    "algo_accuracy_record.append(['RandomForestClassifier', max_acc])\n",
    "# 0.933 without sc"
   ]
  },
  {
   "cell_type": "code",
   "execution_count": 8,
   "metadata": {
    "id": "pb_desMYSb_t",
    "outputId": "7f7493ba-1739-46e5-b2fd-dc75a76f20cc"
   },
   "outputs": [
    {
     "name": "stdout",
     "output_type": "stream",
     "text": [
      "maximum accuracy = 0.8448275862068966\n",
      "confusion matrix = \n",
      "[[36  2]\n",
      " [ 7 13]]\n"
     ]
    }
   ],
   "source": [
    "# Decision Tree Classifier\n",
    "from sklearn.tree import DecisionTreeClassifier\n",
    "\n",
    "dt_acc = []\n",
    "dt_cm = []\n",
    "\n",
    "dt_classifier = DecisionTreeClassifier(criterion = 'entropy')\n",
    "for i in range(20):\n",
    "    dt_classifier.fit(x_train[:,[3,4,7,11]], y_train)\n",
    "    dt_pred = dt_classifier.predict(x_test[:,[3,4,7,11]])\n",
    "\n",
    "    dt_acc.append(accuracy_score(y_test, dt_pred))\n",
    "    dt_cm.append(confusion_matrix(y_test, dt_pred))\n",
    "    \n",
    "max_acc = max(dt_acc)\n",
    "max_acc_cm = dt_cm[dt_acc.index(max_acc)]\n",
    "\n",
    "print('maximum accuracy = ' + str(max_acc))\n",
    "print('confusion matrix = ')\n",
    "print(max_acc_cm)\n",
    "algo_accuracy_record.append(['DecisionTreeClassifier', max_acc])\n",
    "# 0.855 without sc"
   ]
  },
  {
   "cell_type": "code",
   "execution_count": 9,
   "metadata": {
    "id": "7zrUqdQxqDF_",
    "outputId": "bddd2c03-f4fb-43f8-91d8-8ab2a08cb7d8"
   },
   "outputs": [
    {
     "name": "stdout",
     "output_type": "stream",
     "text": [
      "accuracy = 0.8448275862068966\n",
      "confusion matrix = \n",
      "[[37  1]\n",
      " [ 8 12]]\n"
     ]
    }
   ],
   "source": [
    "# Logistic Regression\n",
    "from sklearn.linear_model import LogisticRegression\n",
    "\n",
    "lr_classifier = LogisticRegression(random_state = 2)\n",
    "lr_classifier.fit(x_train[:,[4,7,8,11]], y_train)\n",
    "lr_pred = lr_classifier.predict(x_test[:,[4,7,8,11]])\n",
    "\n",
    "lr_acc = accuracy_score(y_test, lr_pred)\n",
    "lr_cm = confusion_matrix(y_test, lr_pred)\n",
    "\n",
    "print('accuracy = ' + str(lr_acc))\n",
    "print('confusion matrix = ')\n",
    "print(lr_cm)\n",
    "algo_accuracy_record.append(['LogisticRegresion', lr_acc])\n",
    "# 0.888 without sc"
   ]
  },
  {
   "cell_type": "code",
   "execution_count": 10,
   "metadata": {
    "id": "DnciMmNmxnpC",
    "outputId": "7e4325e9-9b4e-4c21-ca4b-f14522725e28"
   },
   "outputs": [
    {
     "name": "stdout",
     "output_type": "stream",
     "text": [
      "0.8103448275862069\n",
      "[[37  1]\n",
      " [10 10]]\n"
     ]
    }
   ],
   "source": [
    "# Support Vector Classifier\n",
    "from sklearn.svm import SVC\n",
    "svc_classifier = SVC(kernel = 'rbf', random_state = 0)\n",
    "svc_classifier.fit(x_train[:,[1,4,7,11]], y_train)\n",
    "svc_pred = svc_classifier.predict(x_test[:,[1,4,7,11]])\n",
    "svc_acc = accuracy_score(y_test, svc_pred)\n",
    "svc_cm = confusion_matrix(y_test, svc_pred)\n",
    "print(svc_acc)\n",
    "print(svc_cm)\n",
    "algo_accuracy_record.append(['SupportVectorClassifier', svc_acc])\n",
    "# 0.9 without sc"
   ]
  },
  {
   "cell_type": "code",
   "execution_count": 11,
   "metadata": {
    "id": "-yVYJHvLBElT",
    "outputId": "4335c04f-7c0c-4ef4-cf1f-ba16f86c9663"
   },
   "outputs": [
    {
     "name": "stdout",
     "output_type": "stream",
     "text": [
      "maximum accuracy = 0.8448275862068966\n",
      "confusion matrix = \n",
      "[[37  1]\n",
      " [ 8 12]]\n"
     ]
    }
   ],
   "source": [
    "# K-Nearest Neighbours Classifier\n",
    "from sklearn.neighbors import KNeighborsClassifier\n",
    "\n",
    "knn_acc = []\n",
    "knn_cm = []\n",
    "\n",
    "# using StandardScalar for K-NN generates better results\n",
    "from sklearn.preprocessing import StandardScaler\n",
    "k_x_train = x_train\n",
    "k_y_train = y_train\n",
    "k_x_test = x_test\n",
    "k_y_test = y_test\n",
    "k_sc = StandardScaler()\n",
    "k_x_train = k_sc.fit_transform(k_x_train)\n",
    "k_x_test = k_sc.transform(k_x_test)\n",
    "\n",
    "for num_neighbours in range(1, 20):\n",
    "    knn_classifier = KNeighborsClassifier(n_neighbors=num_neighbours, metric='minkowski', p=2)\n",
    "    knn_classifier.fit(k_x_train[:,[4,7,11]], k_y_train)\n",
    "\n",
    "    knn_pred = knn_classifier.predict(k_x_test[:,[4,7,11]])\n",
    "\n",
    "    knn_acc.append(accuracy_score(k_y_test, knn_pred))\n",
    "    knn_cm.append(confusion_matrix(k_y_test, knn_pred))\n",
    "\n",
    "max_acc = max(knn_acc)\n",
    "max_acc_cm = knn_cm[knn_acc.index(max_acc)]\n",
    "\n",
    "print('maximum accuracy = ' + str(max_acc))\n",
    "print('confusion matrix = ')\n",
    "print(max_acc_cm)\n",
    "algo_accuracy_record.append(['K-NNClassifier', max_acc])\n",
    "# 0.9333 with sc"
   ]
  },
  {
   "cell_type": "code",
   "execution_count": 12,
   "metadata": {
    "id": "bfRFtXSNEdnl",
    "outputId": "e7aad765-b6cd-4e84-b67c-a581a715ccf0"
   },
   "outputs": [
    {
     "name": "stdout",
     "output_type": "stream",
     "text": [
      "maximum accuracy = 0.7758620689655172\n",
      "confusion matrix = \n",
      "[[37  1]\n",
      " [12  8]]\n"
     ]
    }
   ],
   "source": [
    "# Naive Bayes Classifier\n",
    "from sklearn.naive_bayes import GaussianNB\n",
    "\n",
    "nb_classifier = GaussianNB()\n",
    "nb_classifier.fit(x_train[:,[4,6,7,8,11]], y_train)\n",
    "nb_pred = nb_classifier.predict(x_test[:,[4,6,7,8,11]])\n",
    "\n",
    "nb_acc = accuracy_score(y_test, nb_pred)\n",
    "nb_cm = confusion_matrix(y_test, nb_pred)\n",
    "\n",
    "print('maximum accuracy = ' + str(nb_acc))\n",
    "print('confusion matrix = ')\n",
    "print(nb_cm)\n",
    "algo_accuracy_record.append(['NaiveBayesClassifier', nb_acc])\n",
    "# 0.866 without sc"
   ]
  },
  {
   "cell_type": "code",
   "execution_count": 13,
   "metadata": {
    "id": "u_SVRL1yiZ5h",
    "outputId": "2b79658d-c538-49eb-e26a-c9ccd47e539b"
   },
   "outputs": [
    {
     "name": "stdout",
     "output_type": "stream",
     "text": [
      "maximum accuracy = 0.8448275862068966\n",
      "confusion matrix = \n",
      "[[35  3]\n",
      " [ 6 14]]\n"
     ]
    }
   ],
   "source": [
    "# Gradient Boosting Classifier\n",
    "from sklearn.ensemble import GradientBoostingClassifier\n",
    "\n",
    "gb_classifier = GradientBoostingClassifier(max_depth=2, random_state=1)\n",
    "gb_classifier.fit(x_train[:, [4,7,11]], y_train)\n",
    "gb_pred = gb_classifier.predict(x_test[:, [4,7,11]])\n",
    "\n",
    "gb_acc = accuracy_score(y_test, gb_pred)\n",
    "gb_cm = confusion_matrix(y_test, gb_pred)\n",
    "\n",
    "print('maximum accuracy = ' + str(gb_acc))\n",
    "print('confusion matrix = ')\n",
    "print(gb_cm)\n",
    "algo_accuracy_record.append(['GradientBoostingClassifier', gb_acc])\n",
    "# 0.911 without sc"
   ]
  },
  {
   "cell_type": "code",
   "execution_count": 14,
   "metadata": {
    "id": "1vcnICCGntjO",
    "outputId": "dd411ca9-e80f-4382-8891-60ab2176fce0"
   },
   "outputs": [
    {
     "name": "stdout",
     "output_type": "stream",
     "text": [
      "maximum accuracy = 0.8620689655172413\n",
      "confusion matrix = \n",
      "[[36  2]\n",
      " [ 6 14]]\n"
     ]
    }
   ],
   "source": [
    "# LGBM Classifier\n",
    "from lightgbm import LGBMClassifier\n",
    "\n",
    "lg_classifier = LGBMClassifier(max_depth=2, random_state=4)\n",
    "lg_classifier.fit(x_train[:,[3,4,7,8,11]], y_train)\n",
    "lg_pred = lg_classifier.predict(x_test[:,[3,4,7,8,11]])\n",
    "\n",
    "lg_acc = accuracy_score(y_test, lg_pred)\n",
    "lg_cm = confusion_matrix(y_test, lg_pred)\n",
    "\n",
    "print('maximum accuracy = ' + str(lg_acc))\n",
    "print('confusion matrix = ')\n",
    "print(lg_cm)\n",
    "algo_accuracy_record.append(['LGBMClassifier', lg_acc])\n",
    "# 0.911 without sc"
   ]
  },
  {
   "cell_type": "code",
   "execution_count": 15,
   "metadata": {
    "id": "BDXzEtlvvdKw",
    "outputId": "65b94cd7-6fd0-40a5-d028-8b241d012653"
   },
   "outputs": [
    {
     "name": "stdout",
     "output_type": "stream",
     "text": [
      "maximum accuracy = 0.8103448275862069\n",
      "confusion matrix = \n",
      "[[37  1]\n",
      " [10 10]]\n"
     ]
    }
   ],
   "source": [
    "# Extra Trees Classifier\n",
    "from sklearn.ensemble import ExtraTreesClassifier\n",
    "\n",
    "et_classifier = ExtraTreesClassifier(n_estimators = 1000, max_depth=6, ccp_alpha=0.01)\n",
    "et_classifier.fit(x_train[:,[3,4,7,8,11]], y_train)\n",
    "\n",
    "et_pred = et_classifier.predict(x_test[:,[3,4,7,8,11]])\n",
    "\n",
    "et_acc = accuracy_score(y_test, et_pred)\n",
    "et_cm = confusion_matrix(y_test, et_pred)\n",
    "\n",
    "print('maximum accuracy = ' + str(et_acc))\n",
    "print('confusion matrix = ')\n",
    "print(et_cm)\n",
    "algo_accuracy_record.append(['ExtraTreesClassifier', et_acc])\n",
    "# 0.911 without sc"
   ]
  },
  {
   "cell_type": "code",
   "execution_count": 16,
   "metadata": {
    "id": "TJcQNJ6b4iUt",
    "outputId": "f544ae57-dba9-40f8-c88c-9f5ec0790da4"
   },
   "outputs": [
    {
     "name": "stdout",
     "output_type": "stream",
     "text": [
      "maximum accuracy = 0.8448275862068966\n",
      "confusion matrix = \n",
      "[[37  1]\n",
      " [ 8 12]]\n"
     ]
    }
   ],
   "source": [
    "# AdaBoost Classifier\n",
    "from sklearn.ensemble import AdaBoostClassifier\n",
    "\n",
    "ad_clf = AdaBoostClassifier(n_estimators = 1000, learning_rate=0.001)\n",
    "ad_clf.fit(x_train[:,[4,7,11]], y_train)\n",
    "ad_pred = ad_clf.predict(x_test[:,[4,7,11]])\n",
    "\n",
    "ad_acc = accuracy_score(y_test, ad_pred)\n",
    "ad_cm = confusion_matrix(y_test, ad_pred)\n",
    "\n",
    "print('maximum accuracy = ' + str(ad_acc))\n",
    "print('confusion matrix = ')\n",
    "print(ad_cm)\n",
    "algo_accuracy_record.append(['AdaBoostClassifier', ad_acc])\n",
    "# 0.9 without sc"
   ]
  },
  {
   "cell_type": "code",
   "execution_count": 17,
   "metadata": {
    "id": "hd4MZhxy-g2h",
    "outputId": "69b17b17-6ab6-463c-f530-5a1bec343a86"
   },
   "outputs": [
    {
     "data": {
      "text/plain": [
       "[['RandomForestClassifier', 0.9137931034482759],\n",
       " ['DecisionTreeClassifier', 0.8448275862068966],\n",
       " ['LogisticRegresion', 0.8448275862068966],\n",
       " ['SupportVectorClassifier', 0.8103448275862069],\n",
       " ['K-NNClassifier', 0.8448275862068966],\n",
       " ['NaiveBayesClassifier', 0.7758620689655172],\n",
       " ['GradientBoostingClassifier', 0.8448275862068966],\n",
       " ['LGBMClassifier', 0.8620689655172413],\n",
       " ['ExtraTreesClassifier', 0.8103448275862069],\n",
       " ['AdaBoostClassifier', 0.8448275862068966]]"
      ]
     },
     "execution_count": 17,
     "metadata": {},
     "output_type": "execute_result"
    }
   ],
   "source": [
    "algo_accuracy_record"
   ]
  },
  {
   "cell_type": "markdown",
   "metadata": {
    "id": "FYX6GhM5xFJA"
   },
   "source": [
    "## Summary"
   ]
  },
  {
   "cell_type": "code",
   "execution_count": 18,
   "metadata": {
    "id": "MWu_yoBsxDFx",
    "outputId": "3e10fcea-5adc-40bd-ca77-b6b6a58cbd60"
   },
   "outputs": [
    {
     "data": {
      "text/plain": [
       "[['RandomForestClassifier', 0.9137931034482759],\n",
       " ['DecisionTreeClassifier', 0.8448275862068966],\n",
       " ['LogisticRegresion', 0.8448275862068966],\n",
       " ['SupportVectorClassifier', 0.8103448275862069],\n",
       " ['K-NNClassifier', 0.8448275862068966],\n",
       " ['NaiveBayesClassifier', 0.7758620689655172],\n",
       " ['GradientBoostingClassifier', 0.8448275862068966],\n",
       " ['LGBMClassifier', 0.8620689655172413],\n",
       " ['ExtraTreesClassifier', 0.8103448275862069],\n",
       " ['AdaBoostClassifier', 0.8448275862068966]]"
      ]
     },
     "execution_count": 18,
     "metadata": {},
     "output_type": "execute_result"
    }
   ],
   "source": [
    "algo_accuracy_record"
   ]
  },
  {
   "cell_type": "markdown",
   "metadata": {
    "id": "iCof9Re01zwk"
   },
   "source": [
    "Highest accuracy was achieved by Random Forest Classifier and K-NN Classifier"
   ]
  },
  {
   "cell_type": "code",
   "execution_count": 19,
   "metadata": {
    "id": "pxIZ6bUF1xLj"
   },
   "outputs": [],
   "source": [
    "algo_acc = np.transpose(algo_accuracy_record)\n",
    "x_plot = algo_acc[0]\n",
    "y_plot = np.round(np.array(algo_acc[1], dtype=np.float32)*100, 2)"
   ]
  },
  {
   "cell_type": "code",
   "execution_count": 20,
   "metadata": {
    "id": "m4IkJKWG9YrJ",
    "outputId": "344f4944-31a2-4576-8572-4c4e12a1dbbb"
   },
   "outputs": [
    {
     "data": {
      "image/png": "[encoded data removed]",
      "text/plain": [
       "<Figure size 1872x792 with 1 Axes>"
      ]
     },
     "metadata": {
      "needs_background": "light"
     },
     "output_type": "display_data"
    }
   ],
   "source": [
    "# We plot bar graphs of accuracies of all models and highlight the models with maximum accuracy in orange color.\n",
    "fig = plt.figure(figsize=(26,11))\n",
    "barlist = plt.bar(x_plot,y_plot)\n",
    "for i in range(len(barlist)):\n",
    "    if (y_plot[i] == max(y_plot)):\n",
    "        barlist[i].set_color('orange')\n",
    "    else:\n",
    "        barlist[i].set_color('g')\n",
    "plt.xlabel('Classifier Name', fontsize = 18)\n",
    "plt.ylabel('% Accuracy', fontsize = 22)\n",
    "plt.xticks(x_plot, fontsize = 16)\n",
    "plt.yticks([0,10,20,30,40,50,60,70,80,90,100], fontsize = 16)\n",
    "plt.xticks(rotation = 60)\n",
    "plt.grid(True)\n",
    "plt.style.use(plt.style.available[8])\n",
    "plt.show()"
   ]
  }
 ],
 "metadata": {
  "kernelspec": {
   "display_name": "Python 3",
   "language": "python",
   "name": "python3"
  },
  "language_info": {
   "codemirror_mode": {
    "name": "ipython",
    "version": 3
   },
   "file_extension": ".py",
   "mimetype": "text/x-python",
   "name": "python",
   "nbconvert_exporter": "python",
   "pygments_lexer": "ipython3",
   "version": "3.7.10"
  }
 },
 "nbformat": 4,
 "nbformat_minor": 4
}
